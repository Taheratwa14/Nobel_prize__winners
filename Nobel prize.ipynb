{
 "cells": [
  {
   "cell_type": "markdown",
   "id": "25af3fdb-cba0-4d49-879e-07c06d10703c",
   "metadata": {},
   "source": [
    "## Packages"
   ]
  },
  {
   "cell_type": "code",
   "execution_count": 1,
   "id": "ac2ea5af-316d-425c-bf3d-d2eaa9d1a9f0",
   "metadata": {},
   "outputs": [],
   "source": [
    "import pandas as pd\n",
    "import matplotlib.pyplot as plt\n",
    "from scipy.stats import norm , t\n",
    "import numpy as np"
   ]
  },
  {
   "cell_type": "markdown",
   "id": "e48cea65-4ef8-4399-8ab0-5fc2df72b2e6",
   "metadata": {},
   "source": [
    "## Dataset"
   ]
  },
  {
   "cell_type": "code",
   "execution_count": 4,
   "id": "349e772b-5045-4a75-ba13-eff2035bf9c0",
   "metadata": {},
   "outputs": [],
   "source": [
    "df=pd.read_csv(r\"D:\\Projects\\Noble prize\\nobel.csv\")"
   ]
  },
  {
   "cell_type": "markdown",
   "id": "cfe5de01-7435-4e65-a8be-2a019e3a99e8",
   "metadata": {},
   "source": [
    "## EDA"
   ]
  },
  {
   "cell_type": "code",
   "execution_count": 6,
   "id": "b43a47c1-bcc9-4a55-96d2-6a81876e0eba",
   "metadata": {},
   "outputs": [
    {
     "data": {
      "text/html": [
       "<div>\n",
       "<style scoped>\n",
       "    .dataframe tbody tr th:only-of-type {\n",
       "        vertical-align: middle;\n",
       "    }\n",
       "\n",
       "    .dataframe tbody tr th {\n",
       "        vertical-align: top;\n",
       "    }\n",
       "\n",
       "    .dataframe thead th {\n",
       "        text-align: right;\n",
       "    }\n",
       "</style>\n",
       "<table border=\"1\" class=\"dataframe\">\n",
       "  <thead>\n",
       "    <tr style=\"text-align: right;\">\n",
       "      <th></th>\n",
       "      <th>year</th>\n",
       "      <th>category</th>\n",
       "      <th>prize</th>\n",
       "      <th>motivation</th>\n",
       "      <th>prize_share</th>\n",
       "      <th>laureate_id</th>\n",
       "      <th>laureate_type</th>\n",
       "      <th>full_name</th>\n",
       "      <th>birth_date</th>\n",
       "      <th>birth_city</th>\n",
       "      <th>birth_country</th>\n",
       "      <th>sex</th>\n",
       "      <th>organization_name</th>\n",
       "      <th>organization_city</th>\n",
       "      <th>organization_country</th>\n",
       "      <th>death_date</th>\n",
       "      <th>death_city</th>\n",
       "      <th>death_country</th>\n",
       "    </tr>\n",
       "  </thead>\n",
       "  <tbody>\n",
       "    <tr>\n",
       "      <th>0</th>\n",
       "      <td>1901</td>\n",
       "      <td>Chemistry</td>\n",
       "      <td>The Nobel Prize in Chemistry 1901</td>\n",
       "      <td>\"in recognition of the extraordinary services ...</td>\n",
       "      <td>1/1</td>\n",
       "      <td>160</td>\n",
       "      <td>Individual</td>\n",
       "      <td>Jacobus Henricus van 't Hoff</td>\n",
       "      <td>1852-08-30</td>\n",
       "      <td>Rotterdam</td>\n",
       "      <td>Netherlands</td>\n",
       "      <td>Male</td>\n",
       "      <td>Berlin University</td>\n",
       "      <td>Berlin</td>\n",
       "      <td>Germany</td>\n",
       "      <td>1911-03-01</td>\n",
       "      <td>Berlin</td>\n",
       "      <td>Germany</td>\n",
       "    </tr>\n",
       "    <tr>\n",
       "      <th>1</th>\n",
       "      <td>1901</td>\n",
       "      <td>Literature</td>\n",
       "      <td>The Nobel Prize in Literature 1901</td>\n",
       "      <td>\"in special recognition of his poetic composit...</td>\n",
       "      <td>1/1</td>\n",
       "      <td>569</td>\n",
       "      <td>Individual</td>\n",
       "      <td>Sully Prudhomme</td>\n",
       "      <td>1839-03-16</td>\n",
       "      <td>Paris</td>\n",
       "      <td>France</td>\n",
       "      <td>Male</td>\n",
       "      <td>NaN</td>\n",
       "      <td>NaN</td>\n",
       "      <td>NaN</td>\n",
       "      <td>1907-09-07</td>\n",
       "      <td>Châtenay</td>\n",
       "      <td>France</td>\n",
       "    </tr>\n",
       "    <tr>\n",
       "      <th>2</th>\n",
       "      <td>1901</td>\n",
       "      <td>Medicine</td>\n",
       "      <td>The Nobel Prize in Physiology or Medicine 1901</td>\n",
       "      <td>\"for his work on serum therapy, especially its...</td>\n",
       "      <td>1/1</td>\n",
       "      <td>293</td>\n",
       "      <td>Individual</td>\n",
       "      <td>Emil Adolf von Behring</td>\n",
       "      <td>1854-03-15</td>\n",
       "      <td>Hansdorf (Lawice)</td>\n",
       "      <td>Prussia (Poland)</td>\n",
       "      <td>Male</td>\n",
       "      <td>Marburg University</td>\n",
       "      <td>Marburg</td>\n",
       "      <td>Germany</td>\n",
       "      <td>1917-03-31</td>\n",
       "      <td>Marburg</td>\n",
       "      <td>Germany</td>\n",
       "    </tr>\n",
       "    <tr>\n",
       "      <th>3</th>\n",
       "      <td>1901</td>\n",
       "      <td>Peace</td>\n",
       "      <td>The Nobel Peace Prize 1901</td>\n",
       "      <td>NaN</td>\n",
       "      <td>1/2</td>\n",
       "      <td>462</td>\n",
       "      <td>Individual</td>\n",
       "      <td>Jean Henry Dunant</td>\n",
       "      <td>1828-05-08</td>\n",
       "      <td>Geneva</td>\n",
       "      <td>Switzerland</td>\n",
       "      <td>Male</td>\n",
       "      <td>NaN</td>\n",
       "      <td>NaN</td>\n",
       "      <td>NaN</td>\n",
       "      <td>1910-10-30</td>\n",
       "      <td>Heiden</td>\n",
       "      <td>Switzerland</td>\n",
       "    </tr>\n",
       "    <tr>\n",
       "      <th>4</th>\n",
       "      <td>1901</td>\n",
       "      <td>Peace</td>\n",
       "      <td>The Nobel Peace Prize 1901</td>\n",
       "      <td>NaN</td>\n",
       "      <td>1/2</td>\n",
       "      <td>463</td>\n",
       "      <td>Individual</td>\n",
       "      <td>Frédéric Passy</td>\n",
       "      <td>1822-05-20</td>\n",
       "      <td>Paris</td>\n",
       "      <td>France</td>\n",
       "      <td>Male</td>\n",
       "      <td>NaN</td>\n",
       "      <td>NaN</td>\n",
       "      <td>NaN</td>\n",
       "      <td>1912-06-12</td>\n",
       "      <td>Paris</td>\n",
       "      <td>France</td>\n",
       "    </tr>\n",
       "  </tbody>\n",
       "</table>\n",
       "</div>"
      ],
      "text/plain": [
       "   year    category                                           prize  \\\n",
       "0  1901   Chemistry               The Nobel Prize in Chemistry 1901   \n",
       "1  1901  Literature              The Nobel Prize in Literature 1901   \n",
       "2  1901    Medicine  The Nobel Prize in Physiology or Medicine 1901   \n",
       "3  1901       Peace                      The Nobel Peace Prize 1901   \n",
       "4  1901       Peace                      The Nobel Peace Prize 1901   \n",
       "\n",
       "                                          motivation prize_share  laureate_id  \\\n",
       "0  \"in recognition of the extraordinary services ...         1/1          160   \n",
       "1  \"in special recognition of his poetic composit...         1/1          569   \n",
       "2  \"for his work on serum therapy, especially its...         1/1          293   \n",
       "3                                                NaN         1/2          462   \n",
       "4                                                NaN         1/2          463   \n",
       "\n",
       "  laureate_type                     full_name  birth_date         birth_city  \\\n",
       "0    Individual  Jacobus Henricus van 't Hoff  1852-08-30          Rotterdam   \n",
       "1    Individual               Sully Prudhomme  1839-03-16              Paris   \n",
       "2    Individual        Emil Adolf von Behring  1854-03-15  Hansdorf (Lawice)   \n",
       "3    Individual             Jean Henry Dunant  1828-05-08             Geneva   \n",
       "4    Individual                Frédéric Passy  1822-05-20              Paris   \n",
       "\n",
       "      birth_country   sex   organization_name organization_city  \\\n",
       "0       Netherlands  Male   Berlin University            Berlin   \n",
       "1            France  Male                 NaN               NaN   \n",
       "2  Prussia (Poland)  Male  Marburg University           Marburg   \n",
       "3       Switzerland  Male                 NaN               NaN   \n",
       "4            France  Male                 NaN               NaN   \n",
       "\n",
       "  organization_country  death_date death_city death_country  \n",
       "0              Germany  1911-03-01     Berlin       Germany  \n",
       "1                  NaN  1907-09-07   Châtenay        France  \n",
       "2              Germany  1917-03-31    Marburg       Germany  \n",
       "3                  NaN  1910-10-30     Heiden   Switzerland  \n",
       "4                  NaN  1912-06-12      Paris        France  "
      ]
     },
     "execution_count": 6,
     "metadata": {},
     "output_type": "execute_result"
    }
   ],
   "source": [
    "df.head()"
   ]
  },
  {
   "cell_type": "markdown",
   "id": "64c801e4-6dcf-4288-b066-b67eaea116aa",
   "metadata": {},
   "source": [
    "### Top gender won nobel prize"
   ]
  },
  {
   "cell_type": "code",
   "execution_count": 5,
   "id": "d85bb9ed-c481-4ba7-b3c7-9c48ee98656e",
   "metadata": {},
   "outputs": [
    {
     "data": {
      "text/plain": [
       "'Male'"
      ]
     },
     "execution_count": 5,
     "metadata": {},
     "output_type": "execute_result"
    }
   ],
   "source": [
    "gender=df[\"sex\"].value_counts()\n",
    "top_gender=gender.sort_values(ascending=False).index[0]\n",
    "top_gender"
   ]
  },
  {
   "cell_type": "markdown",
   "id": "21c27672-bd5d-44c6-9a7a-9baceae5fec0",
   "metadata": {},
   "source": [
    "### Which country has more nobel prize winners"
   ]
  },
  {
   "cell_type": "code",
   "execution_count": 7,
   "id": "0f4c613b-2fb5-4c0d-b1a5-90a5a4bd2ef9",
   "metadata": {},
   "outputs": [
    {
     "data": {
      "text/plain": [
       "'United States of America'"
      ]
     },
     "execution_count": 7,
     "metadata": {},
     "output_type": "execute_result"
    }
   ],
   "source": [
    "country=df[\"birth_country\"].value_counts()\n",
    "top_country=country.sort_values(ascending=False).index[0]\n",
    "top_country"
   ]
  },
  {
   "cell_type": "markdown",
   "id": "3a71e157-beb5-46f5-b21b-31bc4d4d026b",
   "metadata": {},
   "source": [
    "### Which decade has the most american winners"
   ]
  },
  {
   "cell_type": "code",
   "execution_count": 10,
   "id": "0016eb3c-b059-4669-a5d9-5245862cfedc",
   "metadata": {},
   "outputs": [
    {
     "data": {
      "text/plain": [
       "2000"
      ]
     },
     "execution_count": 10,
     "metadata": {},
     "output_type": "execute_result"
    }
   ],
   "source": [
    "df[\"decade\"]=(np.floor(df[\"year\"]/10)*10).astype(int)\n",
    "df[\"US_winners\"]=df[\"birth_country\"]==\"United States of America\"\n",
    "decade_usa=df.groupby(\"decade\")[\"US_winners\"].mean()\n",
    "m_decade_usa=decade_usa.sort_values(ascending=False).index[0]\n",
    "max_decade_usa=int(m_decade_usa)\n",
    "max_decade_usa"
   ]
  },
  {
   "cell_type": "markdown",
   "id": "e7aad97b-113d-4bfc-a997-515d7a7967de",
   "metadata": {},
   "source": [
    "### Which decade has the most female winners "
   ]
  },
  {
   "cell_type": "code",
   "execution_count": 11,
   "id": "bda7ac1a-48bd-4343-896c-1670e10a4448",
   "metadata": {},
   "outputs": [
    {
     "data": {
      "text/plain": [
       "decade\n",
       "2010    13\n",
       "2000    11\n",
       "2020    11\n",
       "1990     7\n",
       "1970     4\n",
       "1980     4\n",
       "1900     3\n",
       "1930     3\n",
       "1940     3\n",
       "1960     3\n",
       "1920     2\n",
       "1910     1\n",
       "1950     0\n",
       "Name: female_winners, dtype: int64"
      ]
     },
     "execution_count": 11,
     "metadata": {},
     "output_type": "execute_result"
    }
   ],
   "source": [
    "df[\"female_winners\"]=df[\"sex\"]==\"Female\"\n",
    "female_max=df.groupby(\"decade\")[\"female_winners\"].sum()\n",
    "max_female_winners=female_max.sort_values(ascending=False)\n",
    "max_female_winners"
   ]
  },
  {
   "cell_type": "code",
   "execution_count": 12,
   "id": "f0e31a04-5cee-4191-b97c-63ff8039c52e",
   "metadata": {},
   "outputs": [
    {
     "data": {
      "text/plain": [
       "{2010: 13}"
      ]
     },
     "execution_count": 12,
     "metadata": {},
     "output_type": "execute_result"
    }
   ],
   "source": [
    "max_female_dict={max_female_winners.index[0]:max_female_winners.values[0]}\n",
    "max_female_dict"
   ]
  },
  {
   "cell_type": "markdown",
   "id": "9f56c6cc-7f8e-40ee-8c12-a23a423ea9d2",
   "metadata": {},
   "source": [
    "### Who is the first women won nobel prize"
   ]
  },
  {
   "cell_type": "code",
   "execution_count": 13,
   "id": "ed6c126a-8871-40d3-b82b-bdc44946d775",
   "metadata": {},
   "outputs": [
    {
     "data": {
      "text/plain": [
       "'Marie Curie, née Sklodowska'"
      ]
     },
     "execution_count": 13,
     "metadata": {},
     "output_type": "execute_result"
    }
   ],
   "source": [
    "women=df[df[\"female_winners\"]]\n",
    "women_winners=women.groupby(\"full_name\").agg({\"year\":\"min\"})\n",
    "first_woman_name=women_winners.sort_values(\"year\").index[0]\n",
    "first_woman_name"
   ]
  },
  {
   "cell_type": "markdown",
   "id": "96f2904a-dafc-4e4b-8b25-b9ff3026a9cc",
   "metadata": {},
   "source": [
    "### Which cateorgy has the first women won nobel prize"
   ]
  },
  {
   "cell_type": "code",
   "execution_count": 14,
   "id": "14fed200-795f-48a0-8f45-5819df3f5ed3",
   "metadata": {},
   "outputs": [
    {
     "data": {
      "text/plain": [
       "'Physics'"
      ]
     },
     "execution_count": 14,
     "metadata": {},
     "output_type": "execute_result"
    }
   ],
   "source": [
    "W=women[women[\"full_name\"]==\"Marie Curie, née Sklodowska\"]\n",
    "w_ascending=W.sort_values(\"year\")\n",
    "w_ascending\n",
    "first_record=w_ascending.set_index(\"category\")\n",
    "first_woman_category=first_record.index[0]\n",
    "first_woman_category"
   ]
  },
  {
   "cell_type": "markdown",
   "id": "9ab30b25-e2a5-4917-9832-5fe5a2b8da58",
   "metadata": {},
   "source": [
    "### who won nobel prize multiple times\r\n"
   ]
  },
  {
   "cell_type": "code",
   "execution_count": 15,
   "id": "f3965250-945d-4c31-ab5a-8e5367e188e3",
   "metadata": {},
   "outputs": [
    {
     "data": {
      "text/plain": [
       "['Comité international de la Croix Rouge (International Committee of the Red Cross)',\n",
       " 'Linus Carl Pauling',\n",
       " 'John Bardeen',\n",
       " 'Frederick Sanger',\n",
       " 'Marie Curie, née Sklodowska',\n",
       " 'Office of the United Nations High Commissioner for Refugees (UNHCR)']"
      ]
     },
     "execution_count": 15,
     "metadata": {},
     "output_type": "execute_result"
    }
   ],
   "source": [
    "winners=df[\"full_name\"].value_counts()\n",
    "winners\n",
    "winners_more_than_one_time=winners[winners>=2].index\n",
    "repeat_list=list(winners_more_than_one_time)\n",
    "repeat_list"
   ]
  },
  {
   "cell_type": "code",
   "execution_count": null,
   "id": "100d3582-226a-4715-976b-47e4f73de631",
   "metadata": {},
   "outputs": [],
   "source": []
  }
 ],
 "metadata": {
  "kernelspec": {
   "display_name": "Python 3 (ipykernel)",
   "language": "python",
   "name": "python3"
  },
  "language_info": {
   "codemirror_mode": {
    "name": "ipython",
    "version": 3
   },
   "file_extension": ".py",
   "mimetype": "text/x-python",
   "name": "python",
   "nbconvert_exporter": "python",
   "pygments_lexer": "ipython3",
   "version": "3.11.7"
  }
 },
 "nbformat": 4,
 "nbformat_minor": 5
}
